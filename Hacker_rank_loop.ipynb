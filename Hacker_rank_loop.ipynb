{
  "nbformat": 4,
  "nbformat_minor": 0,
  "metadata": {
    "colab": {
      "name": "Hacker rank loop.ipynb",
      "provenance": [],
      "authorship_tag": "ABX9TyOftNpaPem9idOaS8OgVPY8",
      "include_colab_link": true
    },
    "kernelspec": {
      "name": "python3",
      "display_name": "Python 3"
    },
    "language_info": {
      "name": "python"
    }
  },
  "cells": [
    {
      "cell_type": "markdown",
      "metadata": {
        "id": "view-in-github",
        "colab_type": "text"
      },
      "source": [
        "<a href=\"https://colab.research.google.com/github/NaithaniAR/100-days-of-code-projects/blob/main/Hacker_rank_loop.ipynb\" target=\"_parent\"><img src=\"https://colab.research.google.com/assets/colab-badge.svg\" alt=\"Open In Colab\"/></a>"
      ]
    },
    {
      "cell_type": "code",
      "source": [
        "if __name__ == '__main__':\n",
        "    n = int(raw_input())\n",
        "    \n",
        "    lis=[]\n",
        "    n=n-1\n",
        "    for i in range (0, n+1):\n",
        "        \n",
        "        lis.append(n)\n",
        "       \n",
        "        n=n-1\n",
        "    lis.reverse() \n",
        "    \n",
        "    for j in range(0,len(lis)):\n",
        "        print(lis[j]**2)\n",
        "     "
      ],
      "metadata": {
        "id": "c8RZ7CThTNzd"
      },
      "execution_count": null,
      "outputs": []
    }
  ]
}