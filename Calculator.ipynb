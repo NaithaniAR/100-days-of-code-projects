{
  "nbformat": 4,
  "nbformat_minor": 0,
  "metadata": {
    "colab": {
      "name": "Calculator.ipynb",
      "provenance": [],
      "include_colab_link": true
    },
    "kernelspec": {
      "name": "python3",
      "display_name": "Python 3"
    },
    "language_info": {
      "name": "python"
    }
  },
  "cells": [
    {
      "cell_type": "markdown",
      "metadata": {
        "id": "view-in-github",
        "colab_type": "text"
      },
      "source": [
        "<a href=\"https://colab.research.google.com/github/NaithaniAR/100-days-of-code-projects/blob/main/Calculator.ipynb\" target=\"_parent\"><img src=\"https://colab.research.google.com/assets/colab-badge.svg\" alt=\"Open In Colab\"/></a>"
      ]
    },
    {
      "cell_type": "code",
      "execution_count": null,
      "metadata": {
        "colab": {
          "base_uri": "https://localhost:8080/"
        },
        "id": "-Zy6vIBYCGCE",
        "outputId": "c230361c-a3ba-4852-b84d-1f94f6b5123c"
      },
      "outputs": [
        {
          "output_type": "stream",
          "name": "stdout",
          "text": [
            "enter first number: 5\n",
            "+\n",
            "-\n",
            "*\n",
            "/\n",
            "pick an operator from above: +\n",
            "enter second number: 6\n",
            "+\n",
            "-\n",
            "*\n",
            "/\n",
            "pick an operator from above: 6\n",
            "invalid input\n",
            "pick an operator from above: +\n",
            "5.0 + 6.0 = 11.0\n",
            "do you want to continue yes/no: yes\n",
            "enter next number: 8\n",
            "+\n",
            "-\n",
            "*\n",
            "/\n",
            "pick an operator from above: +\n",
            "11.0 + 8.0 = 19.0\n",
            "do you want to continue yes/no: no\n",
            "Thank you visit again\n"
          ]
        }
      ],
      "source": [
        "def add(a,b):\n",
        "  return a+b\n",
        "\n",
        "def sub(a,b):\n",
        "  return a-b\n",
        "\n",
        "def mul(a,b):\n",
        "  return a*b\n",
        "\n",
        "def div(a,b):\n",
        "  return a/b\n",
        "\n",
        "def operator_fun():\n",
        "  for i in calculator:\n",
        "    print(i)\n",
        "  while True:\n",
        "    operator=input('pick an operator from above: ')\n",
        "    if operator in calculator:\n",
        "      return operator\n",
        "    else:\n",
        "      print('invalid input')\n",
        "\n",
        "calculator={'+':add,'-':sub,'*':mul,'/':div}\n",
        "\n",
        "while 1:\n",
        "  try:\n",
        "    num1=float(input('enter first number: '))\n",
        "    break\n",
        "  except:\n",
        "    print('invalid input insert an int or float value')\n",
        "operator=operator_fun()\n",
        "\n",
        "while 1:\n",
        "  try:\n",
        "    num2=float(input('enter second number: '))\n",
        "    break\n",
        "  except:\n",
        "    print('invalid input insert an int or float value')\n",
        "operator=operator_fun()\n",
        "\n",
        "calculate=calculator[operator]\n",
        "result_prev=calculate(num1,num2)\n",
        "print(f'{num1} {operator} {num2} = {result_prev}')\n",
        "\n",
        "x=input(\"do you want to continue yes/no: \")\n",
        "if x=='yes':\n",
        "  while True:\n",
        "    while 1:\n",
        "      try:\n",
        "        num3=float(input('enter next number: '))\n",
        "        break\n",
        "      except:\n",
        "        print('invalid input insert an int or float value')\n",
        "    \n",
        "\n",
        "    operator=operator_fun()\n",
        "    calculate=calculator[operator]\n",
        "    result_next=calculate(result_prev,num3)\n",
        "\n",
        "    print(f'{result_prev} {operator} {num3} = {result_next}')\n",
        "    result_prev=result_next\n",
        "    y=input(\"do you want to continue yes/no: \")\n",
        "    if y=='no':\n",
        "      print('Thank you visit again')\n",
        "      break\n",
        "else:\n",
        "  print('Thank you visit again')\n"
      ]
    },
    {
      "cell_type": "code",
      "source": [
        ""
      ],
      "metadata": {
        "id": "ZP3i_5t_Jdtd"
      },
      "execution_count": null,
      "outputs": []
    }
  ]
}