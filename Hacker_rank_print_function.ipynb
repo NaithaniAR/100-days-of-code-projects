{
  "nbformat": 4,
  "nbformat_minor": 0,
  "metadata": {
    "colab": {
      "name": "Hacker rank print function.ipynb",
      "provenance": [],
      "authorship_tag": "ABX9TyOeKUKwOOkyF1g8RHP6lB6g",
      "include_colab_link": true
    },
    "kernelspec": {
      "name": "python3",
      "display_name": "Python 3"
    },
    "language_info": {
      "name": "python"
    }
  },
  "cells": [
    {
      "cell_type": "markdown",
      "metadata": {
        "id": "view-in-github",
        "colab_type": "text"
      },
      "source": [
        "<a href=\"https://colab.research.google.com/github/NaithaniAR/100-days-of-code-projects/blob/main/Hacker_rank_print_function.ipynb\" target=\"_parent\"><img src=\"https://colab.research.google.com/assets/colab-badge.svg\" alt=\"Open In Colab\"/></a>"
      ]
    },
    {
      "cell_type": "code",
      "source": [
        "from __future__ import print_function\n",
        "\n",
        "if __name__ == '__main__':\n",
        "    n = int(raw_input())\n",
        "\n",
        "for i in  range (1,n+1):\n",
        "    print(i,end=\"\")\n",
        "    "
      ],
      "metadata": {
        "id": "c8RZ7CThTNzd"
      },
      "execution_count": null,
      "outputs": []
    },
    {
      "cell_type": "markdown",
      "source": [
        "or\n",
        "\n"
      ],
      "metadata": {
        "id": "rrTr3atQTpqs"
      }
    },
    {
      "cell_type": "code",
      "source": [
        "    for i in range(0, n):\n",
        "        print(i ** 2)"
      ],
      "metadata": {
        "id": "WqzIM9NZToqw"
      },
      "execution_count": null,
      "outputs": []
    }
  ]
}